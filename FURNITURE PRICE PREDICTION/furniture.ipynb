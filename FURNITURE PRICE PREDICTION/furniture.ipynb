{
 "cells": [
  {
   "attachments": {},
   "cell_type": "markdown",
   "metadata": {},
   "source": [
    "## IMPORT  LIBRARIES"
   ]
  },
  {
   "cell_type": "code",
   "execution_count": 1,
   "metadata": {},
   "outputs": [],
   "source": [
    "import pandas as pd\n",
    "import seaborn as sns\n",
    "import matplotlib.pyplot as plt\n",
    "import warnings\n",
    "warnings.filterwarnings('ignore')\n",
    "import plotly.express as px\n",
    "from sklearn.model_selection import train_test_split\n",
    "from catboost import CatBoostRegressor\n",
    "from sklearn.tree import DecisionTreeRegressor"
   ]
  },
  {
   "cell_type": "code",
   "execution_count": 2,
   "metadata": {},
   "outputs": [
    {
     "data": {
      "text/html": [
       "<div>\n",
       "<style scoped>\n",
       "    .dataframe tbody tr th:only-of-type {\n",
       "        vertical-align: middle;\n",
       "    }\n",
       "\n",
       "    .dataframe tbody tr th {\n",
       "        vertical-align: top;\n",
       "    }\n",
       "\n",
       "    .dataframe thead th {\n",
       "        text-align: right;\n",
       "    }\n",
       "</style>\n",
       "<table border=\"1\" class=\"dataframe\">\n",
       "  <thead>\n",
       "    <tr style=\"text-align: right;\">\n",
       "      <th></th>\n",
       "      <th>furniture</th>\n",
       "      <th>type</th>\n",
       "      <th>url</th>\n",
       "      <th>rate</th>\n",
       "      <th>delivery</th>\n",
       "      <th>sale</th>\n",
       "      <th>price</th>\n",
       "    </tr>\n",
       "  </thead>\n",
       "  <tbody>\n",
       "    <tr>\n",
       "      <th>134</th>\n",
       "      <td>Super beige sofa bed</td>\n",
       "      <td>Modern Home</td>\n",
       "      <td>https://www.jumia.com.eg//ar/big-super-sofa-be...</td>\n",
       "      <td>5.0</td>\n",
       "      <td>172.14</td>\n",
       "      <td>17%</td>\n",
       "      <td>3500.0</td>\n",
       "    </tr>\n",
       "    <tr>\n",
       "      <th>659</th>\n",
       "      <td>Comodeno gray</td>\n",
       "      <td>Modern Home</td>\n",
       "      <td>https://www.jumia.com.eg//ar/generic-luxury-be...</td>\n",
       "      <td>0.0</td>\n",
       "      <td>52.44</td>\n",
       "      <td>0%</td>\n",
       "      <td>3000.0</td>\n",
       "    </tr>\n",
       "    <tr>\n",
       "      <th>145</th>\n",
       "      <td>Mora medical mattress, ten years guarantee. Th...</td>\n",
       "      <td>Modern Home</td>\n",
       "      <td>https://www.jumia.com.eg//ar/generic-medical-m...</td>\n",
       "      <td>5.0</td>\n",
       "      <td>172.14</td>\n",
       "      <td>20%</td>\n",
       "      <td>4999.0</td>\n",
       "    </tr>\n",
       "    <tr>\n",
       "      <th>332</th>\n",
       "      <td>Homztown Lounge Black</td>\n",
       "      <td>Homztown Lounge Black</td>\n",
       "      <td>https://www.jumia.com.eg//ar/homztown-lounge-b...</td>\n",
       "      <td>0.0</td>\n",
       "      <td>52.44</td>\n",
       "      <td>35%</td>\n",
       "      <td>1850.0</td>\n",
       "    </tr>\n",
       "  </tbody>\n",
       "</table>\n",
       "</div>"
      ],
      "text/plain": [
       "                                             furniture                   type  \\\n",
       "134                              Super beige sofa bed             Modern Home   \n",
       "659                                      Comodeno gray            Modern Home   \n",
       "145  Mora medical mattress, ten years guarantee. Th...            Modern Home   \n",
       "332                              Homztown Lounge Black  Homztown Lounge Black   \n",
       "\n",
       "                                                   url  rate  delivery sale  \\\n",
       "134  https://www.jumia.com.eg//ar/big-super-sofa-be...   5.0    172.14  17%   \n",
       "659  https://www.jumia.com.eg//ar/generic-luxury-be...   0.0     52.44   0%   \n",
       "145  https://www.jumia.com.eg//ar/generic-medical-m...   5.0    172.14  20%   \n",
       "332  https://www.jumia.com.eg//ar/homztown-lounge-b...   0.0     52.44  35%   \n",
       "\n",
       "      price  \n",
       "134  3500.0  \n",
       "659  3000.0  \n",
       "145  4999.0  \n",
       "332  1850.0  "
      ]
     },
     "execution_count": 2,
     "metadata": {},
     "output_type": "execute_result"
    }
   ],
   "source": [
    "data = pd.read_csv('FurniturePricePrediction.csv' , low_memory=True)\n",
    "data.sample(4)"
   ]
  },
  {
   "cell_type": "code",
   "execution_count": 3,
   "metadata": {},
   "outputs": [
    {
     "name": "stdout",
     "output_type": "stream",
     "text": [
      " Number of Null Values : furniture     0\n",
      "type          0\n",
      "url           0\n",
      "rate          0\n",
      "delivery      0\n",
      "sale          0\n",
      "price        39\n",
      "dtype: int64 Shape of the data: (2000, 7)\n"
     ]
    }
   ],
   "source": [
    "print(f' Number of Null Values : {data.isna().sum()}'\n",
    "f' Shape of the data: {data.shape}')"
   ]
  },
  {
   "attachments": {},
   "cell_type": "markdown",
   "metadata": {},
   "source": [
    "Our data has a `shape` of (2000,7) .Therefore this is a small dataset. The dataset contains some `null` values in the price column. We shall handle this later on with different techniques."
   ]
  },
  {
   "cell_type": "code",
   "execution_count": 4,
   "metadata": {},
   "outputs": [
    {
     "data": {
      "text/html": [
       "<div>\n",
       "<style scoped>\n",
       "    .dataframe tbody tr th:only-of-type {\n",
       "        vertical-align: middle;\n",
       "    }\n",
       "\n",
       "    .dataframe tbody tr th {\n",
       "        vertical-align: top;\n",
       "    }\n",
       "\n",
       "    .dataframe thead th {\n",
       "        text-align: right;\n",
       "    }\n",
       "</style>\n",
       "<table border=\"1\" class=\"dataframe\">\n",
       "  <thead>\n",
       "    <tr style=\"text-align: right;\">\n",
       "      <th></th>\n",
       "      <th>rate</th>\n",
       "      <th>delivery</th>\n",
       "      <th>price</th>\n",
       "    </tr>\n",
       "  </thead>\n",
       "  <tbody>\n",
       "    <tr>\n",
       "      <th>count</th>\n",
       "      <td>2000.000000</td>\n",
       "      <td>2000.000000</td>\n",
       "      <td>1961.000000</td>\n",
       "    </tr>\n",
       "    <tr>\n",
       "      <th>mean</th>\n",
       "      <td>0.743450</td>\n",
       "      <td>142.673285</td>\n",
       "      <td>2910.418195</td>\n",
       "    </tr>\n",
       "    <tr>\n",
       "      <th>std</th>\n",
       "      <td>1.611737</td>\n",
       "      <td>139.339128</td>\n",
       "      <td>4002.917206</td>\n",
       "    </tr>\n",
       "    <tr>\n",
       "      <th>min</th>\n",
       "      <td>0.000000</td>\n",
       "      <td>10.830000</td>\n",
       "      <td>13.400000</td>\n",
       "    </tr>\n",
       "    <tr>\n",
       "      <th>25%</th>\n",
       "      <td>0.000000</td>\n",
       "      <td>52.440000</td>\n",
       "      <td>740.000000</td>\n",
       "    </tr>\n",
       "    <tr>\n",
       "      <th>50%</th>\n",
       "      <td>0.000000</td>\n",
       "      <td>172.140000</td>\n",
       "      <td>1900.000000</td>\n",
       "    </tr>\n",
       "    <tr>\n",
       "      <th>75%</th>\n",
       "      <td>0.000000</td>\n",
       "      <td>172.140000</td>\n",
       "      <td>4000.000000</td>\n",
       "    </tr>\n",
       "    <tr>\n",
       "      <th>max</th>\n",
       "      <td>5.000000</td>\n",
       "      <td>2409.900000</td>\n",
       "      <td>55000.000000</td>\n",
       "    </tr>\n",
       "  </tbody>\n",
       "</table>\n",
       "</div>"
      ],
      "text/plain": [
       "              rate     delivery         price\n",
       "count  2000.000000  2000.000000   1961.000000\n",
       "mean      0.743450   142.673285   2910.418195\n",
       "std       1.611737   139.339128   4002.917206\n",
       "min       0.000000    10.830000     13.400000\n",
       "25%       0.000000    52.440000    740.000000\n",
       "50%       0.000000   172.140000   1900.000000\n",
       "75%       0.000000   172.140000   4000.000000\n",
       "max       5.000000  2409.900000  55000.000000"
      ]
     },
     "execution_count": 4,
     "metadata": {},
     "output_type": "execute_result"
    }
   ],
   "source": [
    "data.describe()"
   ]
  },
  {
   "cell_type": "code",
   "execution_count": 5,
   "metadata": {},
   "outputs": [
    {
     "name": "stdout",
     "output_type": "stream",
     "text": [
      "<class 'pandas.core.frame.DataFrame'>\n",
      "RangeIndex: 2000 entries, 0 to 1999\n",
      "Data columns (total 7 columns):\n",
      " #   Column     Non-Null Count  Dtype  \n",
      "---  ------     --------------  -----  \n",
      " 0   furniture  2000 non-null   object \n",
      " 1   type       2000 non-null   object \n",
      " 2   url        2000 non-null   object \n",
      " 3   rate       2000 non-null   float64\n",
      " 4   delivery   2000 non-null   float64\n",
      " 5   sale       2000 non-null   object \n",
      " 6   price      1961 non-null   float64\n",
      "dtypes: float64(3), object(4)\n",
      "memory usage: 109.5+ KB\n"
     ]
    }
   ],
   "source": [
    "data.info()"
   ]
  },
  {
   "cell_type": "code",
   "execution_count": 6,
   "metadata": {},
   "outputs": [
    {
     "data": {
      "text/html": [
       "<div>\n",
       "<style scoped>\n",
       "    .dataframe tbody tr th:only-of-type {\n",
       "        vertical-align: middle;\n",
       "    }\n",
       "\n",
       "    .dataframe tbody tr th {\n",
       "        vertical-align: top;\n",
       "    }\n",
       "\n",
       "    .dataframe thead th {\n",
       "        text-align: right;\n",
       "    }\n",
       "</style>\n",
       "<table border=\"1\" class=\"dataframe\">\n",
       "  <thead>\n",
       "    <tr style=\"text-align: right;\">\n",
       "      <th></th>\n",
       "      <th>furniture</th>\n",
       "      <th>type</th>\n",
       "      <th>url</th>\n",
       "      <th>rate</th>\n",
       "      <th>delivery</th>\n",
       "      <th>sale</th>\n",
       "      <th>price</th>\n",
       "    </tr>\n",
       "  </thead>\n",
       "  <tbody>\n",
       "    <tr>\n",
       "      <th>1725</th>\n",
       "      <td>Jacquard Sofa Cover 2 Seater Stretch Elastic S...</td>\n",
       "      <td>Jacquard Sofa Cover   Seater Stretch Elastic S...</td>\n",
       "      <td>https://www.jumia.com.eg//ar/generic-jacquard-...</td>\n",
       "      <td>0.0</td>\n",
       "      <td>627.96</td>\n",
       "      <td>49%</td>\n",
       "      <td>3033.22</td>\n",
       "    </tr>\n",
       "    <tr>\n",
       "      <th>349</th>\n",
       "      <td>Large Flamingo Bean Bag</td>\n",
       "      <td>Flamingo</td>\n",
       "      <td>https://www.jumia.com.eg//ar/flamingo-large-wa...</td>\n",
       "      <td>5.0</td>\n",
       "      <td>52.44</td>\n",
       "      <td>0%</td>\n",
       "      <td>820.00</td>\n",
       "    </tr>\n",
       "    <tr>\n",
       "      <th>1457</th>\n",
       "      <td>Sofa Bed</td>\n",
       "      <td>Arikaty</td>\n",
       "      <td>https://www.jumia.com.eg//ar/arikaty-sofa-bed-...</td>\n",
       "      <td>0.0</td>\n",
       "      <td>172.14</td>\n",
       "      <td>17%</td>\n",
       "      <td>3999.00</td>\n",
       "    </tr>\n",
       "    <tr>\n",
       "      <th>614</th>\n",
       "      <td>Bed x</td>\n",
       "      <td>Rango</td>\n",
       "      <td>https://www.jumia.com.eg//ar/rango-new-bed-120...</td>\n",
       "      <td>5.0</td>\n",
       "      <td>172.14</td>\n",
       "      <td>13%</td>\n",
       "      <td>4000.00</td>\n",
       "    </tr>\n",
       "    <tr>\n",
       "      <th>1336</th>\n",
       "      <td>Elegant Arabic Style Paravan - Brown</td>\n",
       "      <td>Elegant Arabic Style Paravan   Brown</td>\n",
       "      <td>https://www.jumia.com.eg//ar/generic-elegant-a...</td>\n",
       "      <td>0.0</td>\n",
       "      <td>52.44</td>\n",
       "      <td>0%</td>\n",
       "      <td>9500.00</td>\n",
       "    </tr>\n",
       "  </tbody>\n",
       "</table>\n",
       "</div>"
      ],
      "text/plain": [
       "                                              furniture  \\\n",
       "1725  Jacquard Sofa Cover 2 Seater Stretch Elastic S...   \n",
       "349                             Large Flamingo Bean Bag   \n",
       "1457                                          Sofa Bed    \n",
       "614                                              Bed x    \n",
       "1336               Elegant Arabic Style Paravan - Brown   \n",
       "\n",
       "                                                   type  \\\n",
       "1725  Jacquard Sofa Cover   Seater Stretch Elastic S...   \n",
       "349                                            Flamingo   \n",
       "1457                                            Arikaty   \n",
       "614                                               Rango   \n",
       "1336               Elegant Arabic Style Paravan   Brown   \n",
       "\n",
       "                                                    url  rate  delivery sale  \\\n",
       "1725  https://www.jumia.com.eg//ar/generic-jacquard-...   0.0    627.96  49%   \n",
       "349   https://www.jumia.com.eg//ar/flamingo-large-wa...   5.0     52.44   0%   \n",
       "1457  https://www.jumia.com.eg//ar/arikaty-sofa-bed-...   0.0    172.14  17%   \n",
       "614   https://www.jumia.com.eg//ar/rango-new-bed-120...   5.0    172.14  13%   \n",
       "1336  https://www.jumia.com.eg//ar/generic-elegant-a...   0.0     52.44   0%   \n",
       "\n",
       "        price  \n",
       "1725  3033.22  \n",
       "349    820.00  \n",
       "1457  3999.00  \n",
       "614   4000.00  \n",
       "1336  9500.00  "
      ]
     },
     "execution_count": 6,
     "metadata": {},
     "output_type": "execute_result"
    }
   ],
   "source": [
    "# LOOK AT OUR DATA\n",
    "data.sample(5)"
   ]
  },
  {
   "cell_type": "code",
   "execution_count": 7,
   "metadata": {},
   "outputs": [
    {
     "name": "stdout",
     "output_type": "stream",
     "text": [
      "592\n"
     ]
    }
   ],
   "source": [
    "#check for categories in type\n",
    "print(data['type'].nunique())"
   ]
  },
  {
   "cell_type": "code",
   "execution_count": 8,
   "metadata": {},
   "outputs": [
    {
     "data": {
      "text/plain": [
       "type\n",
       "A  Magnetic Whiteboard Sheet For Kitchen Fridge With                            973.380000\n",
       "Adjustable Angle Foldable Portable Reading Book Stand Document Holder Green     459.000000\n",
       "Adjustable Anti Shake Bed Frame Tool                                                   NaN\n",
       "Ahda Deco                                                                      1250.000000\n",
       "Ahda Deco Classic Floral Style Fold able Tables Set    Pcs                     1850.000000\n",
       "                                                                                  ...     \n",
       "x   cm Bean Bag Cover Chair Gamer Seat Protection Cover In                     1281.333333\n",
       "x   mm Feet Pad Skid Glide Nail Protector Chair Table                           242.000000\n",
       "x   x                                                                           933.000000\n",
       "x Mouse Trap Mouse Finger Live Trap Rat Trap                                    409.600000\n",
       "x Rubber O Ring Oil Seal Gaskets          mm                                     61.910000\n",
       "Name: price, Length: 592, dtype: float64"
      ]
     },
     "execution_count": 8,
     "metadata": {},
     "output_type": "execute_result"
    }
   ],
   "source": [
    "#check the mean price of each furniture type\n",
    "mean_price = data.groupby('type')['price'].mean()\n",
    "mean_price"
   ]
  },
  {
   "cell_type": "code",
   "execution_count": 9,
   "metadata": {},
   "outputs": [
    {
     "name": "stdout",
     "output_type": "stream",
     "text": [
      "furniture     0\n",
      "type          0\n",
      "url           0\n",
      "rate          0\n",
      "delivery      0\n",
      "sale          0\n",
      "price        29\n",
      "dtype: int64\n"
     ]
    }
   ],
   "source": [
    "#Fill null values with the mean of each furniture type\n",
    "data['price'] = data.groupby('type')['price'].apply(lambda x: x.fillna(x.mean()))\n",
    "print(data.isna().sum())"
   ]
  },
  {
   "attachments": {},
   "cell_type": "markdown",
   "metadata": {},
   "source": [
    "we still have a few `null values`. This could be because some furniture types appear only once in our dataset,so the above method to `fill null values` couldn't handle this situation. Let's check the specific `furniture types` with these null values."
   ]
  },
  {
   "cell_type": "code",
   "execution_count": 10,
   "metadata": {},
   "outputs": [
    {
     "data": {
      "text/plain": [
       "type\n",
       "Adjustable Anti Shake Bed Frame Tool                     2\n",
       "Beech Square Bar Chair                                   1\n",
       "Caster Wheels Rubber Heavy Duty                          1\n",
       "Family Bed                                              15\n",
       "Fantazzia                                                7\n",
       "Fishing Chair Portable Outdoor Folding Fishing Chair     1\n",
       "Floral Shelf Brackets                                    1\n",
       "Furniture Pad Stackable Bed Lifts Floor Protector        1\n",
       "dtype: int64"
      ]
     },
     "execution_count": 10,
     "metadata": {},
     "output_type": "execute_result"
    }
   ],
   "source": [
    "#Remaining Furniture types that have null values\n",
    "furniture_null_types = data[data['price'].isnull()].groupby('type').size()\n",
    "furniture_null_types"
   ]
  },
  {
   "cell_type": "code",
   "execution_count": 11,
   "metadata": {},
   "outputs": [
    {
     "data": {
      "text/html": [
       "<div>\n",
       "<style scoped>\n",
       "    .dataframe tbody tr th:only-of-type {\n",
       "        vertical-align: middle;\n",
       "    }\n",
       "\n",
       "    .dataframe tbody tr th {\n",
       "        vertical-align: top;\n",
       "    }\n",
       "\n",
       "    .dataframe thead th {\n",
       "        text-align: right;\n",
       "    }\n",
       "</style>\n",
       "<table border=\"1\" class=\"dataframe\">\n",
       "  <thead>\n",
       "    <tr style=\"text-align: right;\">\n",
       "      <th></th>\n",
       "      <th>furniture</th>\n",
       "      <th>type</th>\n",
       "      <th>url</th>\n",
       "      <th>rate</th>\n",
       "      <th>delivery</th>\n",
       "      <th>sale</th>\n",
       "      <th>price</th>\n",
       "    </tr>\n",
       "  </thead>\n",
       "  <tbody>\n",
       "    <tr>\n",
       "      <th>174</th>\n",
       "      <td>Bed mattress, spring, separate, platinum, cm high</td>\n",
       "      <td>Family Bed</td>\n",
       "      <td>https://www.jumia.com.eg//ar/family-bed-platin...</td>\n",
       "      <td>0.0</td>\n",
       "      <td>172.14</td>\n",
       "      <td>0%</td>\n",
       "      <td>NaN</td>\n",
       "    </tr>\n",
       "    <tr>\n",
       "      <th>251</th>\n",
       "      <td>Supplied bed mattress, Super Belly Top, cm high</td>\n",
       "      <td>Family Bed</td>\n",
       "      <td>https://www.jumia.com.eg//ar/family-bed-super-...</td>\n",
       "      <td>0.0</td>\n",
       "      <td>172.14</td>\n",
       "      <td>0%</td>\n",
       "      <td>NaN</td>\n",
       "    </tr>\n",
       "    <tr>\n",
       "      <th>253</th>\n",
       "      <td>A bed mattress with springs attached to a \"med...</td>\n",
       "      <td>Family Bed</td>\n",
       "      <td>https://www.jumia.com.eg//ar/family-bed-connec...</td>\n",
       "      <td>0.0</td>\n",
       "      <td>172.14</td>\n",
       "      <td>0%</td>\n",
       "      <td>NaN</td>\n",
       "    </tr>\n",
       "    <tr>\n",
       "      <th>322</th>\n",
       "      <td>Compressed medical sponge bed mattress, \"rebou...</td>\n",
       "      <td>Family Bed</td>\n",
       "      <td>https://www.jumia.com.eg//ar/family-bed-compre...</td>\n",
       "      <td>0.0</td>\n",
       "      <td>172.14</td>\n",
       "      <td>0%</td>\n",
       "      <td>NaN</td>\n",
       "    </tr>\n",
       "    <tr>\n",
       "      <th>384</th>\n",
       "      <td>Compressed medical sponge bed mattress, \"rebou...</td>\n",
       "      <td>Family Bed</td>\n",
       "      <td>https://www.jumia.com.eg//ar/family-bed-compre...</td>\n",
       "      <td>0.0</td>\n",
       "      <td>172.14</td>\n",
       "      <td>0%</td>\n",
       "      <td>NaN</td>\n",
       "    </tr>\n",
       "    <tr>\n",
       "      <th>469</th>\n",
       "      <td>Compressed medical sponge bed mattress, \"rebou...</td>\n",
       "      <td>Family Bed</td>\n",
       "      <td>https://www.jumia.com.eg//ar/family-bed-compre...</td>\n",
       "      <td>0.0</td>\n",
       "      <td>172.14</td>\n",
       "      <td>0%</td>\n",
       "      <td>NaN</td>\n",
       "    </tr>\n",
       "    <tr>\n",
       "      <th>476</th>\n",
       "      <td>Bed mattress, spring, separate, Roma, height</td>\n",
       "      <td>Family Bed</td>\n",
       "      <td>https://www.jumia.com.eg//ar/family-bed-roma-p...</td>\n",
       "      <td>0.0</td>\n",
       "      <td>172.14</td>\n",
       "      <td>0%</td>\n",
       "      <td>NaN</td>\n",
       "    </tr>\n",
       "    <tr>\n",
       "      <th>621</th>\n",
       "      <td>Bed mattress, spring attached, extra cm high</td>\n",
       "      <td>Family Bed</td>\n",
       "      <td>https://www.jumia.com.eg//ar/family-bed-extra-...</td>\n",
       "      <td>0.0</td>\n",
       "      <td>172.14</td>\n",
       "      <td>0%</td>\n",
       "      <td>NaN</td>\n",
       "    </tr>\n",
       "    <tr>\n",
       "      <th>655</th>\n",
       "      <td>Venetian mattress, spring, separate, cm high</td>\n",
       "      <td>Family Bed</td>\n",
       "      <td>https://www.jumia.com.eg//ar/family-bed-separa...</td>\n",
       "      <td>0.0</td>\n",
       "      <td>172.14</td>\n",
       "      <td>0%</td>\n",
       "      <td>NaN</td>\n",
       "    </tr>\n",
       "    <tr>\n",
       "      <th>657</th>\n",
       "      <td>Deluxe spring connected bed mattress, cm high</td>\n",
       "      <td>Family Bed</td>\n",
       "      <td>https://www.jumia.com.eg//ar/family-bed-deluxe...</td>\n",
       "      <td>0.0</td>\n",
       "      <td>172.14</td>\n",
       "      <td>0%</td>\n",
       "      <td>NaN</td>\n",
       "    </tr>\n",
       "    <tr>\n",
       "      <th>691</th>\n",
       "      <td>Milano spring mattress, 1 cm high</td>\n",
       "      <td>Family Bed</td>\n",
       "      <td>https://www.jumia.com.eg//ar/family-bed-milano...</td>\n",
       "      <td>0.0</td>\n",
       "      <td>172.14</td>\n",
       "      <td>0%</td>\n",
       "      <td>NaN</td>\n",
       "    </tr>\n",
       "    <tr>\n",
       "      <th>705</th>\n",
       "      <td>Memory mattress, spring, separate, cm high</td>\n",
       "      <td>Family Bed</td>\n",
       "      <td>https://www.jumia.com.eg//ar/family-bed-memory...</td>\n",
       "      <td>0.0</td>\n",
       "      <td>172.14</td>\n",
       "      <td>0%</td>\n",
       "      <td>NaN</td>\n",
       "    </tr>\n",
       "    <tr>\n",
       "      <th>809</th>\n",
       "      <td>Mattress, spring, separate, cm high</td>\n",
       "      <td>Family Bed</td>\n",
       "      <td>https://www.jumia.com.eg//ar/family-bed-genoa-...</td>\n",
       "      <td>0.0</td>\n",
       "      <td>172.14</td>\n",
       "      <td>0%</td>\n",
       "      <td>NaN</td>\n",
       "    </tr>\n",
       "    <tr>\n",
       "      <th>898</th>\n",
       "      <td>Orthopedic mattress with memory Torino height</td>\n",
       "      <td>Family Bed</td>\n",
       "      <td>https://www.jumia.com.eg//ar/family-bed-turino...</td>\n",
       "      <td>0.0</td>\n",
       "      <td>172.14</td>\n",
       "      <td>0%</td>\n",
       "      <td>NaN</td>\n",
       "    </tr>\n",
       "    <tr>\n",
       "      <th>1679</th>\n",
       "      <td>Gold spring bed mattress, cm high</td>\n",
       "      <td>Family Bed</td>\n",
       "      <td>https://www.jumia.com.eg//ar/family-bed-connec...</td>\n",
       "      <td>0.0</td>\n",
       "      <td>172.14</td>\n",
       "      <td>0%</td>\n",
       "      <td>NaN</td>\n",
       "    </tr>\n",
       "  </tbody>\n",
       "</table>\n",
       "</div>"
      ],
      "text/plain": [
       "                                              furniture        type  \\\n",
       "174   Bed mattress, spring, separate, platinum, cm high  Family Bed   \n",
       "251     Supplied bed mattress, Super Belly Top, cm high  Family Bed   \n",
       "253   A bed mattress with springs attached to a \"med...  Family Bed   \n",
       "322   Compressed medical sponge bed mattress, \"rebou...  Family Bed   \n",
       "384   Compressed medical sponge bed mattress, \"rebou...  Family Bed   \n",
       "469   Compressed medical sponge bed mattress, \"rebou...  Family Bed   \n",
       "476        Bed mattress, spring, separate, Roma, height  Family Bed   \n",
       "621        Bed mattress, spring attached, extra cm high  Family Bed   \n",
       "655        Venetian mattress, spring, separate, cm high  Family Bed   \n",
       "657       Deluxe spring connected bed mattress, cm high  Family Bed   \n",
       "691                   Milano spring mattress, 1 cm high  Family Bed   \n",
       "705          Memory mattress, spring, separate, cm high  Family Bed   \n",
       "809                 Mattress, spring, separate, cm high  Family Bed   \n",
       "898       Orthopedic mattress with memory Torino height  Family Bed   \n",
       "1679                  Gold spring bed mattress, cm high  Family Bed   \n",
       "\n",
       "                                                    url  rate  delivery sale  \\\n",
       "174   https://www.jumia.com.eg//ar/family-bed-platin...   0.0    172.14   0%   \n",
       "251   https://www.jumia.com.eg//ar/family-bed-super-...   0.0    172.14   0%   \n",
       "253   https://www.jumia.com.eg//ar/family-bed-connec...   0.0    172.14   0%   \n",
       "322   https://www.jumia.com.eg//ar/family-bed-compre...   0.0    172.14   0%   \n",
       "384   https://www.jumia.com.eg//ar/family-bed-compre...   0.0    172.14   0%   \n",
       "469   https://www.jumia.com.eg//ar/family-bed-compre...   0.0    172.14   0%   \n",
       "476   https://www.jumia.com.eg//ar/family-bed-roma-p...   0.0    172.14   0%   \n",
       "621   https://www.jumia.com.eg//ar/family-bed-extra-...   0.0    172.14   0%   \n",
       "655   https://www.jumia.com.eg//ar/family-bed-separa...   0.0    172.14   0%   \n",
       "657   https://www.jumia.com.eg//ar/family-bed-deluxe...   0.0    172.14   0%   \n",
       "691   https://www.jumia.com.eg//ar/family-bed-milano...   0.0    172.14   0%   \n",
       "705   https://www.jumia.com.eg//ar/family-bed-memory...   0.0    172.14   0%   \n",
       "809   https://www.jumia.com.eg//ar/family-bed-genoa-...   0.0    172.14   0%   \n",
       "898   https://www.jumia.com.eg//ar/family-bed-turino...   0.0    172.14   0%   \n",
       "1679  https://www.jumia.com.eg//ar/family-bed-connec...   0.0    172.14   0%   \n",
       "\n",
       "      price  \n",
       "174     NaN  \n",
       "251     NaN  \n",
       "253     NaN  \n",
       "322     NaN  \n",
       "384     NaN  \n",
       "469     NaN  \n",
       "476     NaN  \n",
       "621     NaN  \n",
       "655     NaN  \n",
       "657     NaN  \n",
       "691     NaN  \n",
       "705     NaN  \n",
       "809     NaN  \n",
       "898     NaN  \n",
       "1679    NaN  "
      ]
     },
     "execution_count": 11,
     "metadata": {},
     "output_type": "execute_result"
    }
   ],
   "source": [
    "#Let's look at the Family Bed furniture type\n",
    "bed = data[data['type'] == 'Family Bed']\n",
    "bed"
   ]
  },
  {
   "attachments": {},
   "cell_type": "markdown",
   "metadata": {},
   "source": [
    "From the above `observation` these rows are useless since most of the columns have no beneficial `recorded data`. This could be a problem from how the data was collected. This therefore means the remaining furniture types have a similar column and trying to use them for our model would lead to `wrong predictions`. The best way to avoid this is to `drop these rows`."
   ]
  },
  {
   "cell_type": "code",
   "execution_count": 12,
   "metadata": {},
   "outputs": [
    {
     "name": "stdout",
     "output_type": "stream",
     "text": [
      "furniture    0\n",
      "type         0\n",
      "url          0\n",
      "rate         0\n",
      "delivery     0\n",
      "sale         0\n",
      "price        0\n",
      "dtype: int64\n"
     ]
    }
   ],
   "source": [
    "#drop null values\n",
    "data.dropna(how='any' , inplace=True)\n",
    "print(data.isna().sum())"
   ]
  },
  {
   "cell_type": "code",
   "execution_count": 13,
   "metadata": {},
   "outputs": [
    {
     "data": {
      "text/html": [
       "<div>\n",
       "<style scoped>\n",
       "    .dataframe tbody tr th:only-of-type {\n",
       "        vertical-align: middle;\n",
       "    }\n",
       "\n",
       "    .dataframe tbody tr th {\n",
       "        vertical-align: top;\n",
       "    }\n",
       "\n",
       "    .dataframe thead th {\n",
       "        text-align: right;\n",
       "    }\n",
       "</style>\n",
       "<table border=\"1\" class=\"dataframe\">\n",
       "  <thead>\n",
       "    <tr style=\"text-align: right;\">\n",
       "      <th></th>\n",
       "      <th>type</th>\n",
       "      <th>count</th>\n",
       "      <th>mean</th>\n",
       "    </tr>\n",
       "  </thead>\n",
       "  <tbody>\n",
       "    <tr>\n",
       "      <th>264</th>\n",
       "      <td>Modern Home</td>\n",
       "      <td>678</td>\n",
       "      <td>2699.205224</td>\n",
       "    </tr>\n",
       "    <tr>\n",
       "      <th>409</th>\n",
       "      <td>Rango</td>\n",
       "      <td>81</td>\n",
       "      <td>5110.481481</td>\n",
       "    </tr>\n",
       "    <tr>\n",
       "      <th>245</th>\n",
       "      <td>Marfy Touch</td>\n",
       "      <td>57</td>\n",
       "      <td>4792.982456</td>\n",
       "    </tr>\n",
       "    <tr>\n",
       "      <th>137</th>\n",
       "      <td>General</td>\n",
       "      <td>51</td>\n",
       "      <td>2175.490392</td>\n",
       "    </tr>\n",
       "    <tr>\n",
       "      <th>25</th>\n",
       "      <td>Artistico</td>\n",
       "      <td>44</td>\n",
       "      <td>4036.931818</td>\n",
       "    </tr>\n",
       "    <tr>\n",
       "      <th>...</th>\n",
       "      <td>...</td>\n",
       "      <td>...</td>\n",
       "      <td>...</td>\n",
       "    </tr>\n",
       "    <tr>\n",
       "      <th>206</th>\n",
       "      <td>In   Matching Letter Game Number Math Counting...</td>\n",
       "      <td>1</td>\n",
       "      <td>760.000000</td>\n",
       "    </tr>\n",
       "    <tr>\n",
       "      <th>204</th>\n",
       "      <td>Ht Comfortable Medical Spine Support Seat And ...</td>\n",
       "      <td>1</td>\n",
       "      <td>769.500000</td>\n",
       "    </tr>\n",
       "    <tr>\n",
       "      <th>202</th>\n",
       "      <td>Homztown Sofa Beanbag Pink</td>\n",
       "      <td>1</td>\n",
       "      <td>2700.000000</td>\n",
       "    </tr>\n",
       "    <tr>\n",
       "      <th>201</th>\n",
       "      <td>Homztown Sofa Beanbag Blue</td>\n",
       "      <td>1</td>\n",
       "      <td>2700.000000</td>\n",
       "    </tr>\n",
       "    <tr>\n",
       "      <th>583</th>\n",
       "      <td>x Rubber O Ring Oil Seal Gaskets          mm</td>\n",
       "      <td>1</td>\n",
       "      <td>61.910000</td>\n",
       "    </tr>\n",
       "  </tbody>\n",
       "</table>\n",
       "<p>584 rows × 3 columns</p>\n",
       "</div>"
      ],
      "text/plain": [
       "                                                  type  count         mean\n",
       "264                                        Modern Home    678  2699.205224\n",
       "409                                              Rango     81  5110.481481\n",
       "245                                        Marfy Touch     57  4792.982456\n",
       "137                                            General     51  2175.490392\n",
       "25                                           Artistico     44  4036.931818\n",
       "..                                                 ...    ...          ...\n",
       "206  In   Matching Letter Game Number Math Counting...      1   760.000000\n",
       "204  Ht Comfortable Medical Spine Support Seat And ...      1   769.500000\n",
       "202                         Homztown Sofa Beanbag Pink      1  2700.000000\n",
       "201                         Homztown Sofa Beanbag Blue      1  2700.000000\n",
       "583       x Rubber O Ring Oil Seal Gaskets          mm      1    61.910000\n",
       "\n",
       "[584 rows x 3 columns]"
      ]
     },
     "execution_count": 13,
     "metadata": {},
     "output_type": "execute_result"
    }
   ],
   "source": [
    "#Number of times each furniture type has been purchased\n",
    "type_num = data.groupby(['type'])['price'].agg(['count','mean']).reset_index()\n",
    "type_num = type_num.sort_values(by='count' , ascending=False)\n",
    "type_num"
   ]
  },
  {
   "cell_type": "code",
   "execution_count": 14,
   "metadata": {},
   "outputs": [
    {
     "data": {
      "text/html": [
       "<div>\n",
       "<style scoped>\n",
       "    .dataframe tbody tr th:only-of-type {\n",
       "        vertical-align: middle;\n",
       "    }\n",
       "\n",
       "    .dataframe tbody tr th {\n",
       "        vertical-align: top;\n",
       "    }\n",
       "\n",
       "    .dataframe thead th {\n",
       "        text-align: right;\n",
       "    }\n",
       "</style>\n",
       "<table border=\"1\" class=\"dataframe\">\n",
       "  <thead>\n",
       "    <tr style=\"text-align: right;\">\n",
       "      <th></th>\n",
       "      <th>type</th>\n",
       "      <th>Num_of_type_bought</th>\n",
       "      <th>Average_price_of_type</th>\n",
       "    </tr>\n",
       "  </thead>\n",
       "  <tbody>\n",
       "    <tr>\n",
       "      <th>433</th>\n",
       "      <td>Rango Sofa Bed      x    cm   Ottoman     x  cm</td>\n",
       "      <td>1</td>\n",
       "      <td>4000.0</td>\n",
       "    </tr>\n",
       "    <tr>\n",
       "      <th>466</th>\n",
       "      <td>Sedra Tala Waterproof Buff   Orange</td>\n",
       "      <td>1</td>\n",
       "      <td>1100.0</td>\n",
       "    </tr>\n",
       "    <tr>\n",
       "      <th>52</th>\n",
       "      <td>Cell Foam Camping Tent Pad Indoor Outdoor</td>\n",
       "      <td>1</td>\n",
       "      <td>1951.0</td>\n",
       "    </tr>\n",
       "    <tr>\n",
       "      <th>248</th>\n",
       "      <td>Marvo CH     Scorpion Adjustable Gaming Chair ...</td>\n",
       "      <td>1</td>\n",
       "      <td>10500.0</td>\n",
       "    </tr>\n",
       "  </tbody>\n",
       "</table>\n",
       "</div>"
      ],
      "text/plain": [
       "                                                  type  Num_of_type_bought  \\\n",
       "433    Rango Sofa Bed      x    cm   Ottoman     x  cm                   1   \n",
       "466                Sedra Tala Waterproof Buff   Orange                   1   \n",
       "52           Cell Foam Camping Tent Pad Indoor Outdoor                   1   \n",
       "248  Marvo CH     Scorpion Adjustable Gaming Chair ...                   1   \n",
       "\n",
       "     Average_price_of_type  \n",
       "433                 4000.0  \n",
       "466                 1100.0  \n",
       "52                  1951.0  \n",
       "248                10500.0  "
      ]
     },
     "execution_count": 14,
     "metadata": {},
     "output_type": "execute_result"
    }
   ],
   "source": [
    "type_num.rename(inplace=True, columns={'count':'Num_of_type_bought','mean': 'Average_price_of_type'})\n",
    "type_num.sample(4)"
   ]
  },
  {
   "attachments": {},
   "cell_type": "markdown",
   "metadata": {},
   "source": [
    "We can observe that `Modern Home` is the most bought furniture category in our dataset. With a mean price of £.2699"
   ]
  },
  {
   "cell_type": "code",
   "execution_count": 15,
   "metadata": {},
   "outputs": [
    {
     "data": {
      "text/html": [
       "<div>\n",
       "<style scoped>\n",
       "    .dataframe tbody tr th:only-of-type {\n",
       "        vertical-align: middle;\n",
       "    }\n",
       "\n",
       "    .dataframe tbody tr th {\n",
       "        vertical-align: top;\n",
       "    }\n",
       "\n",
       "    .dataframe thead th {\n",
       "        text-align: right;\n",
       "    }\n",
       "</style>\n",
       "<table border=\"1\" class=\"dataframe\">\n",
       "  <thead>\n",
       "    <tr style=\"text-align: right;\">\n",
       "      <th></th>\n",
       "      <th>furniture</th>\n",
       "      <th>count</th>\n",
       "      <th>mean</th>\n",
       "    </tr>\n",
       "  </thead>\n",
       "  <tbody>\n",
       "    <tr>\n",
       "      <th>727</th>\n",
       "      <td>Modern capton bed, cm wood</td>\n",
       "      <td>29</td>\n",
       "      <td>4667.310345</td>\n",
       "    </tr>\n",
       "    <tr>\n",
       "      <th>1168</th>\n",
       "      <td>cm TV table</td>\n",
       "      <td>27</td>\n",
       "      <td>3000.000000</td>\n",
       "    </tr>\n",
       "    <tr>\n",
       "      <th>322</th>\n",
       "      <td>Corner bed</td>\n",
       "      <td>22</td>\n",
       "      <td>7845.136364</td>\n",
       "    </tr>\n",
       "    <tr>\n",
       "      <th>1005</th>\n",
       "      <td>Sofa bed</td>\n",
       "      <td>21</td>\n",
       "      <td>4618.761905</td>\n",
       "    </tr>\n",
       "    <tr>\n",
       "      <th>760</th>\n",
       "      <td>Mora mattress, ten years guarantee, size is high</td>\n",
       "      <td>19</td>\n",
       "      <td>4286.421053</td>\n",
       "    </tr>\n",
       "    <tr>\n",
       "      <th>...</th>\n",
       "      <td>...</td>\n",
       "      <td>...</td>\n",
       "      <td>...</td>\n",
       "    </tr>\n",
       "    <tr>\n",
       "      <th>449</th>\n",
       "      <td>Formula Dispenser, Baby Milk Powder Dispenser ...</td>\n",
       "      <td>1</td>\n",
       "      <td>154.000000</td>\n",
       "    </tr>\n",
       "    <tr>\n",
       "      <th>451</th>\n",
       "      <td>French console</td>\n",
       "      <td>1</td>\n",
       "      <td>6000.000000</td>\n",
       "    </tr>\n",
       "    <tr>\n",
       "      <th>452</th>\n",
       "      <td>Full Screen LCD Writing Tablet 10 Inch Erasabl...</td>\n",
       "      <td>1</td>\n",
       "      <td>959.710000</td>\n",
       "    </tr>\n",
       "    <tr>\n",
       "      <th>455</th>\n",
       "      <td>Furniture movers heavy objects moving kit movers</td>\n",
       "      <td>1</td>\n",
       "      <td>290.000000</td>\n",
       "    </tr>\n",
       "    <tr>\n",
       "      <th>599</th>\n",
       "      <td>Jacquard Sofa Cover 2 Seater Stretch Elastic S...</td>\n",
       "      <td>1</td>\n",
       "      <td>3033.220000</td>\n",
       "    </tr>\n",
       "  </tbody>\n",
       "</table>\n",
       "<p>1198 rows × 3 columns</p>\n",
       "</div>"
      ],
      "text/plain": [
       "                                              furniture  count         mean\n",
       "727                          Modern capton bed, cm wood     29  4667.310345\n",
       "1168                                        cm TV table     27  3000.000000\n",
       "322                                         Corner bed      22  7845.136364\n",
       "1005                                          Sofa bed      21  4618.761905\n",
       "760    Mora mattress, ten years guarantee, size is high     19  4286.421053\n",
       "...                                                 ...    ...          ...\n",
       "449   Formula Dispenser, Baby Milk Powder Dispenser ...      1   154.000000\n",
       "451                                      French console      1  6000.000000\n",
       "452   Full Screen LCD Writing Tablet 10 Inch Erasabl...      1   959.710000\n",
       "455    Furniture movers heavy objects moving kit movers      1   290.000000\n",
       "599   Jacquard Sofa Cover 2 Seater Stretch Elastic S...      1  3033.220000\n",
       "\n",
       "[1198 rows x 3 columns]"
      ]
     },
     "execution_count": 15,
     "metadata": {},
     "output_type": "execute_result"
    }
   ],
   "source": [
    "#Number of times each furniture product has been purchased\n",
    "num_times_each_product_bought = data.groupby(['furniture'])['price'].agg(['count','mean']).reset_index()\n",
    "num_times_each_product_bought = num_times_each_product_bought.sort_values(by='count' , ascending=False)\n",
    "num_times_each_product_bought"
   ]
  },
  {
   "cell_type": "code",
   "execution_count": 16,
   "metadata": {},
   "outputs": [
    {
     "data": {
      "text/html": [
       "<div>\n",
       "<style scoped>\n",
       "    .dataframe tbody tr th:only-of-type {\n",
       "        vertical-align: middle;\n",
       "    }\n",
       "\n",
       "    .dataframe tbody tr th {\n",
       "        vertical-align: top;\n",
       "    }\n",
       "\n",
       "    .dataframe thead th {\n",
       "        text-align: right;\n",
       "    }\n",
       "</style>\n",
       "<table border=\"1\" class=\"dataframe\">\n",
       "  <thead>\n",
       "    <tr style=\"text-align: right;\">\n",
       "      <th></th>\n",
       "      <th>furniture</th>\n",
       "      <th>Num_of_product_bought</th>\n",
       "      <th>Average_price_of_product</th>\n",
       "    </tr>\n",
       "  </thead>\n",
       "  <tbody>\n",
       "    <tr>\n",
       "      <th>432</th>\n",
       "      <td>Folding chair</td>\n",
       "      <td>1</td>\n",
       "      <td>499.0</td>\n",
       "    </tr>\n",
       "    <tr>\n",
       "      <th>1146</th>\n",
       "      <td>Wood color chair, open and close, cm high</td>\n",
       "      <td>1</td>\n",
       "      <td>600.0</td>\n",
       "    </tr>\n",
       "    <tr>\n",
       "      <th>101</th>\n",
       "      <td>A white bed with blue roses for a master's room</td>\n",
       "      <td>1</td>\n",
       "      <td>17000.0</td>\n",
       "    </tr>\n",
       "    <tr>\n",
       "      <th>872</th>\n",
       "      <td>Primo Brown Sofa Bed</td>\n",
       "      <td>2</td>\n",
       "      <td>4999.5</td>\n",
       "    </tr>\n",
       "  </tbody>\n",
       "</table>\n",
       "</div>"
      ],
      "text/plain": [
       "                                            furniture  Num_of_product_bought  \\\n",
       "432                                     Folding chair                      1   \n",
       "1146        Wood color chair, open and close, cm high                      1   \n",
       "101   A white bed with blue roses for a master's room                      1   \n",
       "872                             Primo Brown Sofa Bed                       2   \n",
       "\n",
       "      Average_price_of_product  \n",
       "432                      499.0  \n",
       "1146                     600.0  \n",
       "101                    17000.0  \n",
       "872                     4999.5  "
      ]
     },
     "execution_count": 16,
     "metadata": {},
     "output_type": "execute_result"
    }
   ],
   "source": [
    "num_times_each_product_bought.rename(inplace=True, columns={'count':'Num_of_product_bought','mean': 'Average_price_of_product'})\n",
    "num_times_each_product_bought.sample(4)"
   ]
  },
  {
   "attachments": {},
   "cell_type": "markdown",
   "metadata": {},
   "source": [
    "The most bought `furniture` is `Modern capton bed, cm wood` which has been bought 29 times and has a mean price of £.4667 and the least bought product is Jacquard Sofa Cover 2 Seater Stretch Elastic Stretch"
   ]
  },
  {
   "cell_type": "code",
   "execution_count": 17,
   "metadata": {},
   "outputs": [
    {
     "name": "stdout",
     "output_type": "stream",
     "text": [
      "type                                                                                        furniture                                                                                 \n",
      "Art House            L shape                                                                Corner Stella                                                                                 55000.00\n",
      "Hub Furniture                                                                               Young boy's bedroom brown in black                                                            50000.00\n",
      "Art House                  L                                                                Latoya corner letter ( ) from Art House Furniture                                             49000.00\n",
      "Art House           L shape                                                                 Corner Gold                                                                                   49000.00\n",
      "Art House                                                                                   Flash table set from Art House Furniture                                                      42000.00\n",
      "                                                                                                                                                                                            ...   \n",
      "Cm Long Black Aluminum Alloy Screw Locking Split Ring                                       6 Cm Long Black Aluminum Alloy Screw Locking Split Ring                                          32.70\n",
      "SANUME                                                                                      Baby protection piece corner guard furniture edge protector transparent                          31.00\n",
      "Shell Type Zinc Alloy Furniture Kitchen Door Handle Drawer Pull                             Shell Type Zinc Alloy Furniture Kitchen Door Handle Drawer Pull                                  26.00\n",
      "Corner Protection Edge Protection Child Protection Baby                                     Corner Protection Edge Protection Child Protection Baby                                          24.96\n",
      "OR    English Small Letter Bracelets Personality Round Pendant Bracelet Necklace Rose Gold  OR 26 English Small Letter Bracelets Personality Round Pendant Bracelet Necklace Rose Gold       15.00\n",
      "Name: price, Length: 1258, dtype: float64\n"
     ]
    }
   ],
   "source": [
    "most_expensive_product = data.groupby(['type','furniture'])['price'].max()\n",
    "print(most_expensive_product.sort_values(ascending=False))"
   ]
  },
  {
   "attachments": {},
   "cell_type": "markdown",
   "metadata": {},
   "source": [
    "The `Art House` furniture type is the most priced category in the dataset with a `price` of £.55000.00 and English Small Letter Bracelets Personality Round Pendant Bracelet Necklace Rose Gold is the cheapest product."
   ]
  },
  {
   "attachments": {},
   "cell_type": "markdown",
   "metadata": {},
   "source": [
    "Let's merge the two dataframes of `type_num` and `num_times_each_product_bought` to our main dataframe."
   ]
  },
  {
   "cell_type": "code",
   "execution_count": 18,
   "metadata": {},
   "outputs": [
    {
     "data": {
      "text/html": [
       "<div>\n",
       "<style scoped>\n",
       "    .dataframe tbody tr th:only-of-type {\n",
       "        vertical-align: middle;\n",
       "    }\n",
       "\n",
       "    .dataframe tbody tr th {\n",
       "        vertical-align: top;\n",
       "    }\n",
       "\n",
       "    .dataframe thead th {\n",
       "        text-align: right;\n",
       "    }\n",
       "</style>\n",
       "<table border=\"1\" class=\"dataframe\">\n",
       "  <thead>\n",
       "    <tr style=\"text-align: right;\">\n",
       "      <th></th>\n",
       "      <th>furniture</th>\n",
       "      <th>type</th>\n",
       "      <th>url</th>\n",
       "      <th>rate</th>\n",
       "      <th>delivery</th>\n",
       "      <th>sale</th>\n",
       "      <th>price</th>\n",
       "      <th>Num_of_type_bought</th>\n",
       "      <th>Average_price_of_type</th>\n",
       "    </tr>\n",
       "  </thead>\n",
       "  <tbody>\n",
       "    <tr>\n",
       "      <th>1224</th>\n",
       "      <td>Modern capton bed, cm wood</td>\n",
       "      <td>At Home</td>\n",
       "      <td>https://www.jumia.com.eg//ar/at-home-stylish-m...</td>\n",
       "      <td>0.0</td>\n",
       "      <td>172.14</td>\n",
       "      <td>0%</td>\n",
       "      <td>5635.0</td>\n",
       "      <td>17</td>\n",
       "      <td>5379.529412</td>\n",
       "    </tr>\n",
       "  </tbody>\n",
       "</table>\n",
       "</div>"
      ],
      "text/plain": [
       "                       furniture     type  \\\n",
       "1224  Modern capton bed, cm wood  At Home   \n",
       "\n",
       "                                                    url  rate  delivery sale  \\\n",
       "1224  https://www.jumia.com.eg//ar/at-home-stylish-m...   0.0    172.14   0%   \n",
       "\n",
       "       price  Num_of_type_bought  Average_price_of_type  \n",
       "1224  5635.0                  17            5379.529412  "
      ]
     },
     "execution_count": 18,
     "metadata": {},
     "output_type": "execute_result"
    }
   ],
   "source": [
    "new_df = pd.merge(\n",
    "on='type',left= data , right=type_num\n",
    ")\n",
    "new_df.sample()"
   ]
  },
  {
   "cell_type": "code",
   "execution_count": 19,
   "metadata": {},
   "outputs": [
    {
     "data": {
      "text/html": [
       "<div>\n",
       "<style scoped>\n",
       "    .dataframe tbody tr th:only-of-type {\n",
       "        vertical-align: middle;\n",
       "    }\n",
       "\n",
       "    .dataframe tbody tr th {\n",
       "        vertical-align: top;\n",
       "    }\n",
       "\n",
       "    .dataframe thead th {\n",
       "        text-align: right;\n",
       "    }\n",
       "</style>\n",
       "<table border=\"1\" class=\"dataframe\">\n",
       "  <thead>\n",
       "    <tr style=\"text-align: right;\">\n",
       "      <th></th>\n",
       "      <th>furniture</th>\n",
       "      <th>type</th>\n",
       "      <th>url</th>\n",
       "      <th>rate</th>\n",
       "      <th>delivery</th>\n",
       "      <th>sale</th>\n",
       "      <th>price</th>\n",
       "      <th>Num_of_type_bought</th>\n",
       "      <th>Average_price_of_type</th>\n",
       "      <th>Num_of_product_bought</th>\n",
       "      <th>Average_price_of_product</th>\n",
       "    </tr>\n",
       "  </thead>\n",
       "  <tbody>\n",
       "    <tr>\n",
       "      <th>113</th>\n",
       "      <td>Medium coffee table</td>\n",
       "      <td>Gad Woods</td>\n",
       "      <td>https://www.jumia.com.eg//ar/gad-woods-coffe-t...</td>\n",
       "      <td>0.0</td>\n",
       "      <td>172.14</td>\n",
       "      <td>0%</td>\n",
       "      <td>1800.0</td>\n",
       "      <td>13</td>\n",
       "      <td>1861.461538</td>\n",
       "      <td>5</td>\n",
       "      <td>1800.0</td>\n",
       "    </tr>\n",
       "  </tbody>\n",
       "</table>\n",
       "</div>"
      ],
      "text/plain": [
       "                furniture       type  \\\n",
       "113  Medium coffee table   Gad Woods   \n",
       "\n",
       "                                                   url  rate  delivery sale  \\\n",
       "113  https://www.jumia.com.eg//ar/gad-woods-coffe-t...   0.0    172.14   0%   \n",
       "\n",
       "      price  Num_of_type_bought  Average_price_of_type  Num_of_product_bought  \\\n",
       "113  1800.0                  13            1861.461538                      5   \n",
       "\n",
       "     Average_price_of_product  \n",
       "113                    1800.0  "
      ]
     },
     "execution_count": 19,
     "metadata": {},
     "output_type": "execute_result"
    }
   ],
   "source": [
    "new_df = pd.merge(on='furniture',left=new_df , right=num_times_each_product_bought)\n",
    "new_df.sample()"
   ]
  },
  {
   "cell_type": "code",
   "execution_count": 20,
   "metadata": {},
   "outputs": [
    {
     "data": {
      "text/plain": [
       "(1971, 11)"
      ]
     },
     "execution_count": 20,
     "metadata": {},
     "output_type": "execute_result"
    }
   ],
   "source": [
    "new_df.shape"
   ]
  },
  {
   "cell_type": "code",
   "execution_count": 21,
   "metadata": {},
   "outputs": [
    {
     "data": {
      "text/html": [
       "<div>\n",
       "<style scoped>\n",
       "    .dataframe tbody tr th:only-of-type {\n",
       "        vertical-align: middle;\n",
       "    }\n",
       "\n",
       "    .dataframe tbody tr th {\n",
       "        vertical-align: top;\n",
       "    }\n",
       "\n",
       "    .dataframe thead th {\n",
       "        text-align: right;\n",
       "    }\n",
       "</style>\n",
       "<table border=\"1\" class=\"dataframe\">\n",
       "  <thead>\n",
       "    <tr style=\"text-align: right;\">\n",
       "      <th></th>\n",
       "      <th>furniture</th>\n",
       "      <th>type</th>\n",
       "      <th>url</th>\n",
       "      <th>rate</th>\n",
       "      <th>delivery</th>\n",
       "      <th>sale</th>\n",
       "      <th>price</th>\n",
       "      <th>Num_of_type_bought</th>\n",
       "      <th>Average_price_of_type</th>\n",
       "      <th>Num_of_product_bought</th>\n",
       "      <th>Average_price_of_product</th>\n",
       "    </tr>\n",
       "  </thead>\n",
       "  <tbody>\n",
       "    <tr>\n",
       "      <th>1056</th>\n",
       "      <td>Living room</td>\n",
       "      <td>Rango</td>\n",
       "      <td>https://www.jumia.com.eg//ar/rango-living-room...</td>\n",
       "      <td>0.0</td>\n",
       "      <td>172.14</td>\n",
       "      <td>18%</td>\n",
       "      <td>11000.0</td>\n",
       "      <td>81</td>\n",
       "      <td>5110.481481</td>\n",
       "      <td>1</td>\n",
       "      <td>11000.0</td>\n",
       "    </tr>\n",
       "    <tr>\n",
       "      <th>1816</th>\n",
       "      <td>Modern Home Office Desk - 90*40 - White/Red</td>\n",
       "      <td>Modern Home Office Desk           White Red</td>\n",
       "      <td>https://www.jumia.com.eg//ar/generic-modern-ho...</td>\n",
       "      <td>0.0</td>\n",
       "      <td>52.44</td>\n",
       "      <td>59%</td>\n",
       "      <td>2000.0</td>\n",
       "      <td>2</td>\n",
       "      <td>2000.000000</td>\n",
       "      <td>2</td>\n",
       "      <td>2000.0</td>\n",
       "    </tr>\n",
       "    <tr>\n",
       "      <th>1969</th>\n",
       "      <td>Sofa Chair Bean Bag Flocking PVC Garden Lounge</td>\n",
       "      <td>Sofa Chair Bean Bag Flocking PVC Garden Lounge</td>\n",
       "      <td>https://www.jumia.com.eg//ar/generic-sofa-chai...</td>\n",
       "      <td>0.0</td>\n",
       "      <td>566.00</td>\n",
       "      <td>44%</td>\n",
       "      <td>2498.0</td>\n",
       "      <td>1</td>\n",
       "      <td>2498.000000</td>\n",
       "      <td>1</td>\n",
       "      <td>2498.0</td>\n",
       "    </tr>\n",
       "    <tr>\n",
       "      <th>1894</th>\n",
       "      <td>Coffee Table - 35*45*55 Cm - Brown</td>\n",
       "      <td>Coffee Table            Cm   Brown</td>\n",
       "      <td>https://www.jumia.com.eg//ar/generic-coffee-ta...</td>\n",
       "      <td>0.0</td>\n",
       "      <td>172.14</td>\n",
       "      <td>0%</td>\n",
       "      <td>1850.0</td>\n",
       "      <td>1</td>\n",
       "      <td>1850.000000</td>\n",
       "      <td>1</td>\n",
       "      <td>1850.0</td>\n",
       "    </tr>\n",
       "    <tr>\n",
       "      <th>1108</th>\n",
       "      <td>TV desk cm brown in white</td>\n",
       "      <td>Marfy Touch</td>\n",
       "      <td>https://www.jumia.com.eg//ar/marfy-touch-moder...</td>\n",
       "      <td>4.0</td>\n",
       "      <td>52.44</td>\n",
       "      <td>30%</td>\n",
       "      <td>7000.0</td>\n",
       "      <td>57</td>\n",
       "      <td>4792.982456</td>\n",
       "      <td>3</td>\n",
       "      <td>7000.0</td>\n",
       "    </tr>\n",
       "  </tbody>\n",
       "</table>\n",
       "</div>"
      ],
      "text/plain": [
       "                                           furniture  \\\n",
       "1056                                    Living room    \n",
       "1816     Modern Home Office Desk - 90*40 - White/Red   \n",
       "1969  Sofa Chair Bean Bag Flocking PVC Garden Lounge   \n",
       "1894              Coffee Table - 35*45*55 Cm - Brown   \n",
       "1108                       TV desk cm brown in white   \n",
       "\n",
       "                                                type  \\\n",
       "1056                                           Rango   \n",
       "1816     Modern Home Office Desk           White Red   \n",
       "1969  Sofa Chair Bean Bag Flocking PVC Garden Lounge   \n",
       "1894              Coffee Table            Cm   Brown   \n",
       "1108                                     Marfy Touch   \n",
       "\n",
       "                                                    url  rate  delivery sale  \\\n",
       "1056  https://www.jumia.com.eg//ar/rango-living-room...   0.0    172.14  18%   \n",
       "1816  https://www.jumia.com.eg//ar/generic-modern-ho...   0.0     52.44  59%   \n",
       "1969  https://www.jumia.com.eg//ar/generic-sofa-chai...   0.0    566.00  44%   \n",
       "1894  https://www.jumia.com.eg//ar/generic-coffee-ta...   0.0    172.14   0%   \n",
       "1108  https://www.jumia.com.eg//ar/marfy-touch-moder...   4.0     52.44  30%   \n",
       "\n",
       "        price  Num_of_type_bought  Average_price_of_type  \\\n",
       "1056  11000.0                  81            5110.481481   \n",
       "1816   2000.0                   2            2000.000000   \n",
       "1969   2498.0                   1            2498.000000   \n",
       "1894   1850.0                   1            1850.000000   \n",
       "1108   7000.0                  57            4792.982456   \n",
       "\n",
       "      Num_of_product_bought  Average_price_of_product  \n",
       "1056                      1                   11000.0  \n",
       "1816                      2                    2000.0  \n",
       "1969                      1                    2498.0  \n",
       "1894                      1                    1850.0  \n",
       "1108                      3                    7000.0  "
      ]
     },
     "execution_count": 21,
     "metadata": {},
     "output_type": "execute_result"
    }
   ],
   "source": [
    "new_df.sample(5)"
   ]
  },
  {
   "attachments": {},
   "cell_type": "markdown",
   "metadata": {},
   "source": [
    "Convert the `sale` column to float and remove `%` and divide each sell by 100 to represent the percentages."
   ]
  },
  {
   "cell_type": "code",
   "execution_count": 22,
   "metadata": {},
   "outputs": [
    {
     "data": {
      "text/html": [
       "<div>\n",
       "<style scoped>\n",
       "    .dataframe tbody tr th:only-of-type {\n",
       "        vertical-align: middle;\n",
       "    }\n",
       "\n",
       "    .dataframe tbody tr th {\n",
       "        vertical-align: top;\n",
       "    }\n",
       "\n",
       "    .dataframe thead th {\n",
       "        text-align: right;\n",
       "    }\n",
       "</style>\n",
       "<table border=\"1\" class=\"dataframe\">\n",
       "  <thead>\n",
       "    <tr style=\"text-align: right;\">\n",
       "      <th></th>\n",
       "      <th>furniture</th>\n",
       "      <th>type</th>\n",
       "      <th>url</th>\n",
       "      <th>rate</th>\n",
       "      <th>delivery</th>\n",
       "      <th>sale</th>\n",
       "      <th>price</th>\n",
       "      <th>Num_of_type_bought</th>\n",
       "      <th>Average_price_of_type</th>\n",
       "      <th>Num_of_product_bought</th>\n",
       "      <th>Average_price_of_product</th>\n",
       "    </tr>\n",
       "  </thead>\n",
       "  <tbody>\n",
       "    <tr>\n",
       "      <th>1216</th>\n",
       "      <td>Bean Togo Grand Bean Bag Waterproof</td>\n",
       "      <td>Bean GO</td>\n",
       "      <td>https://www.jumia.com.eg//ar/bean2go-grand-pvc...</td>\n",
       "      <td>0.0</td>\n",
       "      <td>52.44</td>\n",
       "      <td>0.00</td>\n",
       "      <td>1199.0</td>\n",
       "      <td>37</td>\n",
       "      <td>1389.783784</td>\n",
       "      <td>5</td>\n",
       "      <td>1239.8</td>\n",
       "    </tr>\n",
       "    <tr>\n",
       "      <th>332</th>\n",
       "      <td>Modern coffee table</td>\n",
       "      <td>Modern Home</td>\n",
       "      <td>https://www.jumia.com.eg//ar/modern-home-moder...</td>\n",
       "      <td>4.4</td>\n",
       "      <td>172.14</td>\n",
       "      <td>0.11</td>\n",
       "      <td>450.0</td>\n",
       "      <td>678</td>\n",
       "      <td>2699.205224</td>\n",
       "      <td>2</td>\n",
       "      <td>625.0</td>\n",
       "    </tr>\n",
       "    <tr>\n",
       "      <th>289</th>\n",
       "      <td>Medical back pillow for spine pain and lower b...</td>\n",
       "      <td>Modern Home</td>\n",
       "      <td>https://www.jumia.com.eg//ar/ht-medical-back-p...</td>\n",
       "      <td>0.0</td>\n",
       "      <td>52.44</td>\n",
       "      <td>0.10</td>\n",
       "      <td>445.0</td>\n",
       "      <td>678</td>\n",
       "      <td>2699.205224</td>\n",
       "      <td>1</td>\n",
       "      <td>445.0</td>\n",
       "    </tr>\n",
       "    <tr>\n",
       "      <th>1022</th>\n",
       "      <td>child's seat</td>\n",
       "      <td>Artistico</td>\n",
       "      <td>https://www.jumia.com.eg//ar/artistico-kids-ch...</td>\n",
       "      <td>0.0</td>\n",
       "      <td>52.44</td>\n",
       "      <td>0.27</td>\n",
       "      <td>1500.0</td>\n",
       "      <td>44</td>\n",
       "      <td>4036.931818</td>\n",
       "      <td>1</td>\n",
       "      <td>1500.0</td>\n",
       "    </tr>\n",
       "    <tr>\n",
       "      <th>73</th>\n",
       "      <td>cm TV table</td>\n",
       "      <td>Modern Home</td>\n",
       "      <td>https://www.jumia.com.eg//ar/generic-tv-table-...</td>\n",
       "      <td>0.0</td>\n",
       "      <td>172.14</td>\n",
       "      <td>0.68</td>\n",
       "      <td>3000.0</td>\n",
       "      <td>678</td>\n",
       "      <td>2699.205224</td>\n",
       "      <td>27</td>\n",
       "      <td>3000.0</td>\n",
       "    </tr>\n",
       "  </tbody>\n",
       "</table>\n",
       "</div>"
      ],
      "text/plain": [
       "                                              furniture         type  \\\n",
       "1216               Bean Togo Grand Bean Bag Waterproof       Bean GO   \n",
       "332                                Modern coffee table   Modern Home   \n",
       "289   Medical back pillow for spine pain and lower b...  Modern Home   \n",
       "1022                                       child's seat    Artistico   \n",
       "73                                          cm TV table  Modern Home   \n",
       "\n",
       "                                                    url  rate  delivery  sale  \\\n",
       "1216  https://www.jumia.com.eg//ar/bean2go-grand-pvc...   0.0     52.44  0.00   \n",
       "332   https://www.jumia.com.eg//ar/modern-home-moder...   4.4    172.14  0.11   \n",
       "289   https://www.jumia.com.eg//ar/ht-medical-back-p...   0.0     52.44  0.10   \n",
       "1022  https://www.jumia.com.eg//ar/artistico-kids-ch...   0.0     52.44  0.27   \n",
       "73    https://www.jumia.com.eg//ar/generic-tv-table-...   0.0    172.14  0.68   \n",
       "\n",
       "       price  Num_of_type_bought  Average_price_of_type  \\\n",
       "1216  1199.0                  37            1389.783784   \n",
       "332    450.0                 678            2699.205224   \n",
       "289    445.0                 678            2699.205224   \n",
       "1022  1500.0                  44            4036.931818   \n",
       "73    3000.0                 678            2699.205224   \n",
       "\n",
       "      Num_of_product_bought  Average_price_of_product  \n",
       "1216                      5                    1239.8  \n",
       "332                       2                     625.0  \n",
       "289                       1                     445.0  \n",
       "1022                      1                    1500.0  \n",
       "73                       27                    3000.0  "
      ]
     },
     "execution_count": 22,
     "metadata": {},
     "output_type": "execute_result"
    }
   ],
   "source": [
    "new_df['sale'] = new_df['sale'].apply(lambda x : float(x.replace('%',''))/100)\n",
    "new_df.sample(5)"
   ]
  },
  {
   "cell_type": "code",
   "execution_count": 45,
   "metadata": {},
   "outputs": [
    {
     "data": {
      "image/png": "[encoded data removed]",
      "text/plain": [
       "<Figure size 432x288 with 1 Axes>"
      ]
     },
     "metadata": {
      "needs_background": "light"
     },
     "output_type": "display_data"
    }
   ],
   "source": [
    "plt.scatter(new_df['Num_of_type_bought'] ,new_df['price'])\n",
    "plt.xlabel('Number of times product type was purchased')\n",
    "plt.ylabel('Price of product')\n",
    "plt.show()"
   ]
  },
  {
   "attachments": {},
   "cell_type": "markdown",
   "metadata": {},
   "source": [
    "We can note that most product types have a `low price` regardless of the times it was `bought`. We can also note that we have outliers in our dataset."
   ]
  },
  {
   "cell_type": "code",
   "execution_count": 35,
   "metadata": {},
   "outputs": [
    {
     "data": {
      "image/png": "[encoded data removed]",
      "text/plain": [
       "<Figure size 432x288 with 1 Axes>"
      ]
     },
     "metadata": {
      "needs_background": "light"
     },
     "output_type": "display_data"
    }
   ],
   "source": [
    "plt.scatter(new_df['Num_of_product_bought'] ,new_df['Average_price_of_product'])\n",
    "plt.xlabel('Number of times product was bought')\n",
    "plt.ylabel('Average Price of product')\n",
    "plt.show()"
   ]
  },
  {
   "attachments": {},
   "cell_type": "markdown",
   "metadata": {},
   "source": [
    "The above plot shows that products have been bought a `few times` have `averagely higher prices` than the ones that have been purchased many times."
   ]
  },
  {
   "cell_type": "code",
   "execution_count": 36,
   "metadata": {},
   "outputs": [
    {
     "data": {
      "image/png": "[encoded data removed]",
      "text/plain": [
       "<Figure size 432x288 with 1 Axes>"
      ]
     },
     "metadata": {
      "needs_background": "light"
     },
     "output_type": "display_data"
    }
   ],
   "source": [
    "plt.scatter(new_df['delivery'] ,new_df['price'])\n",
    "plt.xlabel('Number of times product type was purchased')\n",
    "plt.ylabel('Average Price of product')\n",
    "plt.show()"
   ]
  },
  {
   "cell_type": "code",
   "execution_count": 38,
   "metadata": {},
   "outputs": [
    {
     "data": {
      "image/png": "[encoded data removed]",
      "text/plain": [
       "<Figure size 432x288 with 1 Axes>"
      ]
     },
     "metadata": {
      "needs_background": "light"
     },
     "output_type": "display_data"
    }
   ],
   "source": [
    "plt.scatter(new_df['delivery'] ,new_df['rate'])\n",
    "plt.xlabel('Delivery Price')\n",
    "plt.ylabel('Product Ratings')\n",
    "plt.show()"
   ]
  },
  {
   "attachments": {},
   "cell_type": "markdown",
   "metadata": {},
   "source": [
    "We can observe that `products` with `high delivery prices` have `low ratings` compared to products with `low delivery prices`."
   ]
  },
  {
   "cell_type": "code",
   "execution_count": 46,
   "metadata": {},
   "outputs": [
    {
     "data": {
      "image/png": "[encoded data removed]",
      "text/plain": [
       "<Figure size 432x288 with 1 Axes>"
      ]
     },
     "metadata": {
      "needs_background": "light"
     },
     "output_type": "display_data"
    }
   ],
   "source": [
    "plt.scatter(new_df['sale'] ,new_df['price'])\n",
    "plt.xlabel('Percentage of sales discount')\n",
    "plt.ylabel('Price of product')\n",
    "plt.show()"
   ]
  },
  {
   "attachments": {},
   "cell_type": "markdown",
   "metadata": {},
   "source": [
    "The above plot shows that products with `no discount sales` have `higher prices` than products with `dicount sales`. We can also observe that we have some `outliers` in our dataset."
   ]
  },
  {
   "cell_type": "markdown",
   "metadata": {},
   "source": [
    "# Feature Extraction"
   ]
  },
  {
   "cell_type": "code",
   "execution_count": 23,
   "metadata": {},
   "outputs": [
    {
     "name": "stdout",
     "output_type": "stream",
     "text": [
      "                              rate  delivery      sale     price  \\\n",
      "rate                      1.000000 -0.110956 -0.029488 -0.020673   \n",
      "delivery                 -0.110956  1.000000  0.114883  0.100966   \n",
      "sale                     -0.029488  0.114883  1.000000 -0.178842   \n",
      "price                    -0.020673  0.100966 -0.178842  1.000000   \n",
      "Num_of_type_bought        0.030690 -0.151993 -0.122647 -0.027596   \n",
      "Average_price_of_type     0.011171  0.076908 -0.185519  0.801855   \n",
      "Num_of_product_bought     0.049673  0.004084  0.014589  0.097756   \n",
      "Average_price_of_product -0.014082  0.102941 -0.191278  0.975159   \n",
      "\n",
      "                          Num_of_type_bought  Average_price_of_type  \\\n",
      "rate                                0.030690               0.011171   \n",
      "delivery                           -0.151993               0.076908   \n",
      "sale                               -0.122647              -0.185519   \n",
      "price                              -0.027596               0.801855   \n",
      "Num_of_type_bought                  1.000000              -0.034416   \n",
      "Average_price_of_type              -0.034416               1.000000   \n",
      "Num_of_product_bought               0.212896               0.082953   \n",
      "Average_price_of_product           -0.023127               0.766105   \n",
      "\n",
      "                          Num_of_product_bought  Average_price_of_product  \n",
      "rate                                   0.049673                 -0.014082  \n",
      "delivery                               0.004084                  0.102941  \n",
      "sale                                   0.014589                 -0.191278  \n",
      "price                                  0.097756                  0.975159  \n",
      "Num_of_type_bought                     0.212896                 -0.023127  \n",
      "Average_price_of_type                  0.082953                  0.766105  \n",
      "Num_of_product_bought                  1.000000                  0.100246  \n",
      "Average_price_of_product               0.100246                  1.000000  \n"
     ]
    }
   ],
   "source": [
    "#Check feature correlation between columns\n",
    "feature_corr = new_df.corr()\n",
    "print(feature_corr)"
   ]
  },
  {
   "cell_type": "code",
   "execution_count": 24,
   "metadata": {},
   "outputs": [
    {
     "name": "stdout",
     "output_type": "stream",
     "text": [
      "price                       1.000000\n",
      "Average_price_of_product    0.975159\n",
      "Average_price_of_type       0.801855\n",
      "sale                        0.178842\n",
      "delivery                    0.100966\n",
      "Num_of_product_bought       0.097756\n",
      "Num_of_type_bought          0.027596\n",
      "rate                        0.020673\n",
      "Name: price, dtype: float64\n"
     ]
    }
   ],
   "source": [
    "#check features correlation with target\n",
    "feature_corr = feature_corr['price'].abs().sort_values(ascending=False)\n",
    "print(feature_corr)"
   ]
  },
  {
   "cell_type": "code",
   "execution_count": 25,
   "metadata": {},
   "outputs": [],
   "source": [
    "selected_features = feature_corr[1:7].index.to_list()"
   ]
  },
  {
   "cell_type": "code",
   "execution_count": 26,
   "metadata": {},
   "outputs": [
    {
     "name": "stdout",
     "output_type": "stream",
     "text": [
      "(1971, 6) (1971,)\n"
     ]
    }
   ],
   "source": [
    "X = new_df[selected_features]\n",
    "Y = new_df['price']\n",
    "print(X.shape , Y.shape)"
   ]
  },
  {
   "attachments": {},
   "cell_type": "markdown",
   "metadata": {},
   "source": [
    "# SCALING"
   ]
  },
  {
   "cell_type": "code",
   "execution_count": 51,
   "metadata": {},
   "outputs": [],
   "source": [
    "from sklearn.preprocessing import MinMaxScaler\n",
    "import numpy as np\n",
    "scaler = MinMaxScaler()\n",
    "scaler.fit(X)\n",
    "scaled_data = scaler.transform(X)"
   ]
  },
  {
   "cell_type": "code",
   "execution_count": 52,
   "metadata": {},
   "outputs": [
    {
     "name": "stdout",
     "output_type": "stream",
     "text": [
      "[[0.02993136 0.04520804 0.8        0.06723855 0.32142857 0.00295421]\n",
      " [0.02993136 0.04520804 0.8        0.06723855 0.32142857 0.00295421]\n",
      " [0.02993136 0.04520804 0.8        0.06723855 0.32142857 0.00295421]\n",
      " ...\n",
      " [0.00505221 0.00505221 0.18888889 0.10471558 0.         0.        ]\n",
      " [0.04517166 0.04517166 0.48888889 0.2314105  0.         0.        ]\n",
      " [0.02942214 0.02942214 0.         0.26904175 0.         0.        ]] [[0.04522193]\n",
      " [0.04522193]\n",
      " [0.04522193]\n",
      " ...\n",
      " [0.00506669]\n",
      " [0.04518555]\n",
      " [0.02943626]]\n"
     ]
    }
   ],
   "source": [
    "Y = Y.array.reshape(-1 , 1)\n",
    "scaler.fit(Y)\n",
    "Y = scaler.transform(Y)\n",
    "print(scaled_data , Y)"
   ]
  },
  {
   "attachments": {},
   "cell_type": "markdown",
   "metadata": {},
   "source": [
    "# Handle Outliers"
   ]
  },
  {
   "cell_type": "code",
   "execution_count": 62,
   "metadata": {},
   "outputs": [],
   "source": [
    "# Using log Transformation\n",
    "import numpy as np\n",
    "df_log = np.log(scaled_data)"
   ]
  },
  {
   "cell_type": "code",
   "execution_count": 64,
   "metadata": {},
   "outputs": [],
   "source": [
    "x_train , x_test , y_train , y_test = train_test_split(scaled_data , Y , test_size=0.3 ,shuffle=True ,\n",
    "                                                       random_state=42)"
   ]
  },
  {
   "attachments": {},
   "cell_type": "markdown",
   "metadata": {},
   "source": [
    "# MODEL TRAINING AND EVALUATION"
   ]
  },
  {
   "cell_type": "code",
   "execution_count": 65,
   "metadata": {},
   "outputs": [
    {
     "data": {
      "text/plain": [
       "DecisionTreeRegressor()"
      ]
     },
     "execution_count": 65,
     "metadata": {},
     "output_type": "execute_result"
    }
   ],
   "source": [
    "tree = DecisionTreeRegressor()\n",
    "tree.fit(x_train , y_train)"
   ]
  },
  {
   "cell_type": "code",
   "execution_count": 66,
   "metadata": {},
   "outputs": [],
   "source": [
    "\n",
    "train_predictions = tree.predict(x_train)\n"
   ]
  },
  {
   "cell_type": "code",
   "execution_count": 70,
   "metadata": {},
   "outputs": [
    {
     "data": {
      "text/plain": [
       "0.9957411474984823"
      ]
     },
     "execution_count": 70,
     "metadata": {},
     "output_type": "execute_result"
    }
   ],
   "source": [
    "from sklearn.metrics import r2_score , mean_absolute_error , mean_squared_error\n",
    "r2_score(y_train ,train_predictions )"
   ]
  },
  {
   "cell_type": "code",
   "execution_count": 76,
   "metadata": {},
   "outputs": [
    {
     "name": "stdout",
     "output_type": "stream",
     "text": [
      "R2Score 0.9843827531962742\n",
      "Mean Abolute Error 0.0035358041999849314\n",
      "Mean squared Error 8.814871719051341e-05\n"
     ]
    }
   ],
   "source": [
    "test_pred = tree.predict(x_test)\n",
    "print('R2Score', r2_score(y_test , test_pred))\n",
    "print('Mean Abolute Error' , mean_absolute_error(y_test ,test_pred))\n",
    "print('Mean squared Error' , mean_squared_error(y_test , test_pred))"
   ]
  },
  {
   "cell_type": "code",
   "execution_count": 78,
   "metadata": {},
   "outputs": [
    {
     "data": {
      "image/png": "[encoded data removed]",
      "text/plain": [
       "<Figure size 432x288 with 1 Axes>"
      ]
     },
     "metadata": {
      "needs_background": "light"
     },
     "output_type": "display_data"
    }
   ],
   "source": [
    "#Create scatter plot\n",
    "plt.scatter(y_test ,test_pred)\n",
    "plt.plot([min(y_test) ,max(y_test)],[min(test_pred), max(test_pred)] ,'k--', lw=4)\n",
    "plt.xlabel('Actual Values')\n",
    "plt.ylabel('Predicted Values')\n",
    "plt.title('Scatter plot of actual vs. predicted values')\n",
    "plt.show()\n"
   ]
  },
  {
   "attachments": {},
   "cell_type": "markdown",
   "metadata": {},
   "source": [
    "With the above plot we can note that the model performs well since the predicted values don't fall too far away from  our line of best fit."
   ]
  }
 ],
 "metadata": {
  "kernelspec": {
   "display_name": "base",
   "language": "python",
   "name": "python3"
  },
  "language_info": {
   "codemirror_mode": {
    "name": "ipython",
    "version": 3
   },
   "file_extension": ".py",
   "mimetype": "text/x-python",
   "name": "python",
   "nbconvert_exporter": "python",
   "pygments_lexer": "ipython3",
   "version": "3.9.12"
  },
  "orig_nbformat": 4
 },
 "nbformat": 4,
 "nbformat_minor": 2
}
